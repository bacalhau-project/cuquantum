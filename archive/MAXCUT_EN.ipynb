{
 "cells": [
  {
   "cell_type": "markdown",
   "metadata": {
    "ExecuteTime": {
     "end_time": "2021-01-06T07:10:17.389768Z",
     "start_time": "2021-01-06T07:10:17.379639Z"
    }
   },
   "source": [
    "# Solving Max-Cut Problem with QAOA\n",
    "\n",
    "<em> Copyright (c) 2021 Institute for Quantum Computing, Baidu Inc. All Rights Reserved. </em>"
   ]
  },
  {
   "cell_type": "markdown",
   "metadata": {
    "ExecuteTime": {
     "end_time": "2021-01-06T07:12:18.621281Z",
     "start_time": "2021-01-06T07:12:18.308211Z"
    }
   },
   "source": [
    "## Overview\n",
    "\n",
    "In the [tutorial on Quantum Approximate Optimization Algorithm](./QAOA_EN.ipynb), we talked about how to encode a classical combinatorial optimization problem into a quantum optimization problem and slove it with Quantum Approximate Optimization Algorithm [1] (QAOA). In this tutorial, we will take the Max-Cut Problem as an example to further elaborate on QAOA.\n",
    "\n",
    "### Max-Cut Problem\n",
    "\n",
    "The Max-Cut Problem is a common combinatorial optimization problem in graph theory, and it has important applications in statistical physics and circuit design. The maximum cut problem is an NP-hard problem, so there is no efficient algorithm that can solve this problem perfectly.\n",
    "\n",
    "In graph theory, a graph is represented by a pair of sets $G=(V, E)$, where the elements in the set $V$ are the vertices of the graph, and each element in the set $E$ is a pair of vertices, representing an edge connecting these two vertices. For example, the graph in the figure below is represented by $V=\\{0,1,2,3\\}$ and $E=\\{(0,1),(1,2),(2,3),(3, 0)\\}$.\n",
    "\n",
    "![G](figures/maxcut-fig-maxcut_g.png \"Figure 1: A graph with four vertices and four edges\")\n",
    "<div style=\"text-align:center\">Figure 1: A graph with four vertices and four edges </div>\n",
    "\n",
    "A cut on a graph refers to a partition of the graph's vertex set $V$ into two disjoint sets. Each cut corresponds to a set of edges, in which the two vertices of each edge are divided into different sets. So we can define the size of this cut as the size of this set of edges, that is, the number of edges being cut. The Max-Cut Problem is to find a cut that maximizes the number of edges being cut. Figure 2 shows a maximum cut of the graph in Figure 1. The size of the maximum cut is $4$, which means that all edges in the graph are cut.\n",
    "\n",
    "![Max cut on G](figures/maxcut-fig-maxcut_cut.png \"Figure 2: A maximum cut of the graph in Figure 1\")\n",
    "<div style=\"text-align:center\">Figure 2: A maximum cut of the graph in Figure 1 </div>\n",
    "\n",
    "Assuming that the input graph $G=(V, E)$ has $n=|V|$ vertices and $m=|E|$ edges, we can describe the Max-Cut Problem as a combinatorial optimization problem with $n$ bits and $m$ clauses. Each bit corresponds to a vertex $v$ in the graph $G$, and its value $z_v$ is $0$ or $1$, corresponding to the vertex belonging to the set $S_{0}$ or $S_{1}$, respectively. Thus, each value $z$ of these $n$ bits corresponds to a distinct cut. Each clause corresponds to an edge $(u,v)$ in the graph $G$. A clause requires that the two vertices connected by its corresponding edge take different values, namely $z_u\\neq z_v$, which means the edge is cut. In other words, when the two vertices connected by the edge are divided into different sets, we say that the clause is satisfied. Therefore, for each edge $(u,v)$ in the graph $G$, we have\n",
    "\n",
    "$$\n",
    "C_{(u,v)}(z) = z_u+z_v-2z_uz_v,\n",
    "\\tag{1}\n",
    "$$\n",
    "\n",
    "where $C_{(u,v)}(z) = 1$ if and only if the edge is cut. Otherwise, the function is equal to $0$. The objective function of the entire combinatorial optimization problem is\n",
    "\n",
    "$$\n",
    "C(z) = \\sum_{(u,v)\\in E}C_{(u,v)}(z) = \\sum_{(u,v)\\in E}z_u+z_v-2z_uz_v.\n",
    "\\tag{2}\n",
    "$$\n",
    "\n",
    "Therefore, to solve the maximum cut problem is to find a value $z$ that maximizes the objective function in equation (2).\n",
    "\n",
    "### Encoding Max-Cut Problem\n",
    "\n",
    "Here we take the Max-Cut Problem as an example to further elaborate on QAOA. In order to transform the Max-Cut Problem into a quantum problem, we need to use $n$ qubits, where each qubit corresponds to a vertex in the graph $G$. A qubit being in a quantum state $|0\\rangle$ or $|1\\rangle$ indicates that its corresponding vertex belongs to the set $S_{0}$ or $S_{1}$, respectively. It is worth noting that $|0\\rangle$ and $|1\\rangle$ are the two eigenstates of Pauli $Z$ gate, and their eigenvalues are respectively $1$ and $-1$, namely\n",
    "\n",
    "$$\n",
    "\\begin{align}\n",
    "Z|0\\rangle&=|0\\rangle,\\tag{3}\\\\\n",
    "Z|1\\rangle&=-|1\\rangle.\\tag{4}\n",
    "\\end{align}\n",
    "$$\n",
    "\n",
    "Therefore, we can use Pauli $Z$ gate to construct the Hamiltonian $H_C$ of the Max-Cut Problem. Because mapping $f(x):x\\to(x+1)/2$ maps $-1$ to $0$ and $1$ to $1$, we can replace $z$ in equation (2) with $(Z+I)/2$ ($I$ is the identity matrix) to get the Hamiltonian corresponding to the objective function of the original problem:\n",
    "\n",
    "$$\n",
    "\\begin{align}\n",
    "H_C &= \\sum_{(u,v)\\in E} \\frac{Z_u+I}{2} + \\frac{Z_v+I}{2}-2\\cdot\\frac{Z_u+I}{2} \\frac{Z_v+I}{2}\\tag{5}\\\\\n",
    "&= \\sum_{(u,v)\\in E} \\frac{Z_u+Z_v+2I-(Z_uZ_v+Z_u+Z_v+I)}{2}\\tag{6}\\\\\n",
    "&= \\sum_{(u,v)\\in E} \\frac{I-Z_uZ_v}{2}.\\tag{7}\n",
    "\\end{align}\n",
    "$$\n",
    "\n",
    "The expected value of this Hamiltonian for a quantum state $|\\psi\\rangle$ is\n",
    "\n",
    "$$\n",
    "\\begin{align}\n",
    "\\langle\\psi|H_C|\\psi\\rangle &= \\langle\\psi|\\sum_{(u,v)\\in E} \\frac{I-Z_uZ_v}{2}|\\psi\\rangle\\tag{8} \\\\\n",
    "&= \\langle\\psi|\\sum_{(u,v)\\in E} \\frac{I}{2}|\\psi\\rangle-\\langle\\psi|\\sum_{(u,v)\\in E} \\frac{Z_uZ_v}{2}|\\psi\\rangle\\tag{9}\\\\\n",
    "&= \\frac{|E|}{2}-\\frac{1}{2}\\langle\\psi|\\sum_{(u,v)\\in E} Z_uZ_v|\\psi\\rangle.\\tag{10}\n",
    "\\end{align}\n",
    "$$\n",
    "\n",
    "If we define\n",
    "\n",
    "$$\n",
    "H_D = -\\sum_{(u,v)\\in E} Z_uZ_v,\n",
    "\\tag{11}\n",
    "$$\n",
    "\n",
    "then finding the quantum state $|\\psi\\rangle$ that maximizes $\\langle\\psi|H_C|\\psi\\rangle$ is equivalent to finding the quantum state $|\\psi\\rangle$ such that $\\langle\\psi|H_D|\\psi \\rangle$ is the largest."
   ]
  },
  {
   "cell_type": "markdown",
   "metadata": {},
   "source": [
    "## Paddle Quantum Implementation\n",
    "\n",
    "Now, let's implement QAOA with Paddle Quantum to solve the Max-Cut Problem. There are many ways to find the parameters $\\vec{\\gamma},\\vec{\\beta}$. Here we use the gradient descent method in classical machine learning.\n",
    "\n",
    "To implement QAOA with Paddle Quantum, the first thing to do is to import the required packages. Among them, the `networkx` package can help us handle graphs conveniently."
   ]
  },
  {
   "cell_type": "code",
   "execution_count": null,
   "metadata": {
    "ExecuteTime": {
     "end_time": "2021-04-30T09:07:36.250220Z",
     "start_time": "2021-04-30T09:07:36.223934Z"
    }
   },
   "outputs": [
    {
     "data": {
      "text/html": [
       "<style>pre { white-space: pre !important; }</style>"
      ],
      "text/plain": [
       "<IPython.core.display.HTML object>"
      ]
     },
     "metadata": {},
     "output_type": "display_data"
    }
   ],
   "source": [
    "from IPython.core.display import HTML\n",
    "display(HTML(\"<style>pre { white-space: pre !important; }</style>\"))"
   ]
  },
  {
   "cell_type": "code",
   "execution_count": 1,
   "metadata": {
    "ExecuteTime": {
     "end_time": "2021-04-30T09:07:40.001750Z",
     "start_time": "2021-04-30T09:07:36.983994Z"
    }
   },
   "outputs": [],
   "source": [
    "# Import related modules from Paddle Quantum and PaddlePaddle\n",
    "import paddle\n",
    "from paddle_quantum.ansatz import Circuit\n",
    "from paddle_quantum.qinfo import pauli_str_to_matrix\n",
    "from paddle_quantum.loss import ExpecVal\n",
    "from paddle_quantum import Hamiltonian\n",
    "\n",
    "# Import additional packages needed\n",
    "import numpy as np\n",
    "from numpy import pi as PI\n",
    "import matplotlib.pyplot as plt\n",
    "import networkx as nx\n",
    "\n",
    "import warnings\n",
    "warnings.filterwarnings(\"ignore\")"
   ]
  },
  {
   "cell_type": "markdown",
   "metadata": {},
   "source": [
    "Next, we generate the graph $G$ in the Max-Cut Problem. For the convenience of computation, the vertices here are labeled starting from $0$."
   ]
  },
  {
   "cell_type": "code",
   "execution_count": 2,
   "metadata": {
    "ExecuteTime": {
     "end_time": "2021-04-30T09:07:40.192343Z",
     "start_time": "2021-04-30T09:07:40.007013Z"
    }
   },
   "outputs": [
    {
     "data": {
      "image/png": "[encoded data removed]",
      "text/plain": [
       "<Figure size 640x480 with 1 Axes>"
      ]
     },
     "metadata": {},
     "output_type": "display_data"
    }
   ],
   "source": [
    "# n is the number of vertices in the graph G, which is also the number of qubits\n",
    "n = 4\n",
    "G = nx.Graph()\n",
    "V = range(n)\n",
    "G.add_nodes_from(V)\n",
    "E = [(0, 1), (1, 2), (2, 3), (3, 0), (1, 3)]\n",
    "G.add_edges_from(E)\n",
    "\n",
    "# Print out the generated graph G\n",
    "pos = nx.circular_layout(G)\n",
    "options = {\n",
    "    \"with_labels\": True,\n",
    "    \"font_size\": 20,\n",
    "    \"font_weight\": \"bold\",\n",
    "    \"font_color\": \"white\",\n",
    "    \"node_size\": 2000,\n",
    "    \"width\": 2\n",
    "}\n",
    "nx.draw_networkx(G, pos, **options)\n",
    "ax = plt.gca()\n",
    "ax.margins(0.20)\n",
    "plt.axis(\"off\")\n",
    "plt.show()"
   ]
  },
  {
   "cell_type": "markdown",
   "metadata": {},
   "source": [
    "### Encoding Hamiltonian\n",
    "\n",
    "In Paddle Quantum, a Hamiltonian can be input in the form of `list`. Here we construct the Hamiltonian $H_D$ in equation (11)."
   ]
  },
  {
   "cell_type": "code",
   "execution_count": 3,
   "metadata": {
    "ExecuteTime": {
     "end_time": "2021-04-30T09:07:40.206426Z",
     "start_time": "2021-04-30T09:07:40.197339Z"
    }
   },
   "outputs": [
    {
     "name": "stdout",
     "output_type": "stream",
     "text": [
      "[[-1.0, 'z0,z1'], [-1.0, 'z1,z2'], [-1.0, 'z2,z3'], [-1.0, 'z3,z0'], [-1.0, 'z1,z3']]\n"
     ]
    }
   ],
   "source": [
    "# Construct the Hamiltonian H_D in the form of list\n",
    "H_D_list = []\n",
    "for (u, v) in E:\n",
    "    H_D_list.append([-1.0,'z'+str(u) +',z' + str(v)])\n",
    "print(H_D_list)"
   ]
  },
  {
   "cell_type": "markdown",
   "metadata": {},
   "source": [
    "As you can see, in this example, the Hamiltonian $H_D$ is\n",
    "\n",
    "$$\n",
    "H_D = -Z_0Z_1-Z_1Z_2-Z_2Z_3-Z_3Z_0-Z_1Z_3.\n",
    "\\tag{12}\n",
    "$$\n",
    "\n",
    "We can view the matrix form of the Hamiltonian $H_D$ and get information of its eigenvalues:"
   ]
  },
  {
   "cell_type": "code",
   "execution_count": 4,
   "metadata": {
    "ExecuteTime": {
     "end_time": "2021-04-30T09:07:40.501135Z",
     "start_time": "2021-04-30T09:07:40.491760Z"
    }
   },
   "outputs": [
    {
     "name": "stdout",
     "output_type": "stream",
     "text": [
      "[-5.  1. -1.  1.  1.  3.  1. -1. -1.  1.  3.  1.  1. -1.  1. -5.]\n",
      "H_max: 3.0\n"
     ]
    }
   ],
   "source": [
    "# Convert Hamiltonian H_D from list form to matrix form\n",
    "H_D_matrix = pauli_str_to_matrix(H_D_list, n)\n",
    "# Take out the elements on the diagonal of H_D\n",
    "H_D_diag = np.diag(H_D_matrix).real\n",
    "# Get the maximum eigenvalue of H_D\n",
    "H_max = np.max(H_D_diag)\n",
    "\n",
    "print(H_D_diag)\n",
    "print('H_max:', H_max)"
   ]
  },
  {
   "cell_type": "markdown",
   "metadata": {},
   "source": [
    "### Building the QAOA circuit\n",
    "\n",
    "Earlier we introduced that QAOA needs to apply two unitary transformations $U_C(\\gamma)$ and $U_B(\\beta)$ alternately on the initial state $|s\\rangle = |+\\rangle^{\\otimes n}$. Here, we use the quantum gates and quantum circuit templates provided in Paddle Quantum to build a quantum circuit to achieve this step. It should be noted that in the Max-Cut Problem, we simplify the problem of maximizing the expected value of the Hamiltonian $H_C$ to the problem of maximizing the expected value of the Hamiltonian $H_D$, so the unitary transformations to be used are $U_D(\\gamma)$ and $U_B(\\beta)$. By alternately placing two circuit modules with adjustable parameters, we are able to build a QAOA circuit\n",
    "\n",
    "$$\n",
    "U_B(\\beta_p)U_D(\\gamma_p)\\cdots U_B(\\beta_1)U_D(\\gamma_1),\n",
    "\\tag{13}\n",
    "$$\n",
    "\n",
    "where $U_D(\\gamma) = e^{-i\\gamma H_D}$ can be constructed with the circuit in the figure below. Another unitary transformation $U_B(\\beta)$ is equivalent to applying a $R_x$ gate to each qubit.\n",
    "\n",
    "![U_D circuit](figures/maxcut-fig-cir_ud.png \"Figure 3: Quantum circuit of unitary transformation $e^{i\\gamma Z\\otimes Z}$\")\n",
    "<div style=\"text-align:center\">Figure 3: Quantum circuit of unitary transformation $e^{i\\gamma Z\\otimes Z}$</div>\n",
    "\n",
    "Therefore, the quantum circuit that realizes a layer of unitary transformation $U_B(\\beta)U_D(\\gamma)$ is shown in Figure 4.\n",
    "\n",
    "![U_BU_D circuit](figures/maxcut-fig-cir_ubud.png \"Figure 4: Quantum circuit of unitary transformation $U_B(\\beta)U_D(\\gamma)$\")\n",
    "<div style=\"text-align:center\">Figure 4: Quantum circuit of unitary transformation $U_B(\\beta)U_D(\\gamma)$  </div>\n",
    "\n",
    "In Paddle Quantum, the default initial state of each qubit is $|0\\rangle$ (the initial state can be customized by input parameters). We can add a layer of Hadamard gates to change the state of each qubit from $|0\\rangle$ to $|+\\rangle$ so that we get the initial state $|s\\rangle = |+\\rangle^{\\otimes n}$ required by QAOA. In Paddle Quantum, we can add a layer of Hadamard gates to the quantum circuit by calling `superposition_layer()`."
   ]
  },
  {
   "cell_type": "code",
   "execution_count": 5,
   "metadata": {},
   "outputs": [],
   "source": [
    "def circuit_QAOA(num_qubits, depth, edges, vertices):\n",
    "    # Initialize the quantum circuit of n qubits\n",
    "    cir = Circuit(num_qubits)\n",
    "    # Prepare quantum state |s>\n",
    "    cir.superposition_layer()\n",
    "    # Build a circuit with p layers of U_D\n",
    "    cir.qaoa_layer(edges, vertices, depth)\n",
    "    \n",
    "    return cir\n"
   ]
  },
  {
   "cell_type": "markdown",
   "metadata": {},
   "source": [
    "After running the constructed QAOA quantum circuit, we obtain the output state\n",
    "\n",
    "$$\n",
    "|\\vec{\\gamma},\\vec{\\beta}\\rangle = U_B(\\beta_p)U_D(\\gamma_p)\\cdots U_B(\\beta_1)U_D(\\gamma_1)|s\\rangle.\n",
    "\\tag{14}\n",
    "$$"
   ]
  },
  {
   "cell_type": "markdown",
   "metadata": {},
   "source": [
    "### Calculating the loss function\n",
    "\n",
    "From the output state of the circuit built in the previous step, we can calculate the objective function of the maximum cut problem\n",
    "\n",
    "$$\n",
    "F_p(\\vec{\\gamma},\\vec{\\beta}) = \\langle\\vec{\\gamma},\\vec{\\beta}|H_D|\\vec{\\gamma},\\vec{\\beta}\\rangle.\n",
    "\\tag{15}\n",
    "$$\n",
    "\n",
    "To maximize the objective function is equivalent to minimizing $-F_p$. Therefore, we define $L(\\vec{\\gamma},\\vec{\\beta}) = -F_p(\\vec{\\gamma},\\vec{\\beta})$ as the loss function, that is, the function to be minimized. Then, we use a classical optimization algorithm to find the optimal parameters $\\vec{\\gamma},\\vec{\\beta}$. The following code shows the loss function constructed with Paddle Quantum:"
   ]
  },
  {
   "cell_type": "code",
   "execution_count": 6,
   "metadata": {},
   "outputs": [
    {
     "name": "stderr",
     "output_type": "stream",
     "text": [
      "WARNING: Logging before InitGoogleLogging() is written to STDERR\n",
      "I0303 14:10:51.724097 4181821504 kernel_dispatch.h:102] Get BackendSet from tensor\n",
      "I0303 14:10:51.724131 4181821504 kernel_dispatch.h:120] promote kernel DataType:complex64\n",
      "I0303 14:10:51.724141 4181821504 kernel_dispatch.h:102] Get BackendSet from tensor\n",
      "I0303 14:10:51.724152 4181821504 kernel_dispatch.h:120] promote kernel DataType:complex64\n",
      "I0303 14:10:51.724254 4181821504 kernel_dispatch.h:102] Get BackendSet from tensor\n",
      "I0303 14:10:51.724265 4181821504 kernel_dispatch.h:120] promote kernel DataType:complex64\n",
      "I0303 14:10:51.724278 4181821504 kernel_dispatch.h:102] Get BackendSet from tensor\n",
      "I0303 14:10:51.724287 4181821504 kernel_dispatch.h:120] promote kernel DataType:complex64\n",
      "I0303 14:10:51.725888 4181821504 kernel_dispatch.h:102] Get BackendSet from tensor\n",
      "I0303 14:10:51.725898 4181821504 kernel_dispatch.h:120] promote kernel DataType:complex64\n",
      "I0303 14:10:51.725906 4181821504 kernel_dispatch.h:102] Get BackendSet from tensor\n",
      "I0303 14:10:51.725914 4181821504 kernel_dispatch.h:120] promote kernel DataType:complex64\n",
      "I0303 14:10:51.725957 4181821504 kernel_dispatch.h:102] Get BackendSet from tensor\n",
      "I0303 14:10:51.725966 4181821504 kernel_dispatch.h:120] promote kernel DataType:complex64\n",
      "I0303 14:10:51.725975 4181821504 kernel_dispatch.h:102] Get BackendSet from tensor\n",
      "I0303 14:10:51.725991 4181821504 kernel_dispatch.h:120] promote kernel DataType:complex64\n",
      "I0303 14:10:51.726054 4181821504 kernel_dispatch.h:102] Get BackendSet from tensor\n",
      "I0303 14:10:51.726064 4181821504 kernel_dispatch.h:120] promote kernel DataType:complex64\n",
      "I0303 14:10:51.726075 4181821504 kernel_dispatch.h:102] Get BackendSet from tensor\n",
      "I0303 14:10:51.726090 4181821504 kernel_dispatch.h:120] promote kernel DataType:complex64\n",
      "I0303 14:10:51.726135 4181821504 kernel_dispatch.h:102] Get BackendSet from tensor\n",
      "I0303 14:10:51.726145 4181821504 kernel_dispatch.h:120] promote kernel DataType:complex64\n",
      "I0303 14:10:51.726161 4181821504 kernel_dispatch.h:102] Get BackendSet from tensor\n",
      "I0303 14:10:51.726173 4181821504 kernel_dispatch.h:120] promote kernel DataType:complex64\n",
      "I0303 14:10:51.726238 4181821504 kernel_dispatch.h:102] Get BackendSet from tensor\n",
      "I0303 14:10:51.726248 4181821504 kernel_dispatch.h:120] promote kernel DataType:complex64\n",
      "I0303 14:10:51.726264 4181821504 kernel_dispatch.h:102] Get BackendSet from tensor\n",
      "I0303 14:10:51.726276 4181821504 kernel_dispatch.h:120] promote kernel DataType:complex64\n",
      "I0303 14:10:51.726315 4181821504 kernel_dispatch.h:102] Get BackendSet from tensor\n",
      "I0303 14:10:51.726330 4181821504 kernel_dispatch.h:120] promote kernel DataType:complex64\n",
      "I0303 14:10:51.726347 4181821504 kernel_dispatch.h:102] Get BackendSet from tensor\n",
      "I0303 14:10:51.726364 4181821504 kernel_dispatch.h:120] promote kernel DataType:complex64\n",
      "I0303 14:10:51.726433 4181821504 kernel_dispatch.h:102] Get BackendSet from tensor\n",
      "I0303 14:10:51.726444 4181821504 kernel_dispatch.h:120] promote kernel DataType:complex64\n",
      "I0303 14:10:51.726456 4181821504 kernel_dispatch.h:102] Get BackendSet from tensor\n",
      "I0303 14:10:51.726467 4181821504 kernel_dispatch.h:120] promote kernel DataType:complex64\n",
      "I0303 14:10:51.726506 4181821504 kernel_dispatch.h:102] Get BackendSet from tensor\n",
      "I0303 14:10:51.726522 4181821504 kernel_dispatch.h:120] promote kernel DataType:complex64\n",
      "I0303 14:10:51.726534 4181821504 kernel_dispatch.h:102] Get BackendSet from tensor\n",
      "I0303 14:10:51.726552 4181821504 kernel_dispatch.h:120] promote kernel DataType:complex64\n"
     ]
    }
   ],
   "source": [
    "# construct the loss function\n",
    "loss_func = ExpecVal(Hamiltonian(H_D_list))"
   ]
  },
  {
   "cell_type": "markdown",
   "metadata": {},
   "source": [
    "### Training quantum neural network\n",
    "\n",
    "After defining the quantum neural network for QAOA, we use the gradient descent method to update the parameters in the network to maximize the expected value in equation (15)."
   ]
  },
  {
   "cell_type": "code",
   "execution_count": 7,
   "metadata": {
    "ExecuteTime": {
     "end_time": "2021-04-30T09:07:44.907375Z",
     "start_time": "2021-04-30T09:07:44.901678Z"
    }
   },
   "outputs": [],
   "source": [
    "depth = 4      # Number of layers in the quantum circuit\n",
    "ITR = 120  # Number of training iterations\n",
    "LR = 0.1   # Learning rate of the optimization method based on gradient descent\n",
    "SEED = 1024 # Set global RNG seed "
   ]
  },
  {
   "cell_type": "markdown",
   "metadata": {},
   "source": [
    "Here, we optimize the loss function defined above in PaddlePaddle."
   ]
  },
  {
   "cell_type": "code",
   "execution_count": 8,
   "metadata": {},
   "outputs": [
    {
     "name": "stderr",
     "output_type": "stream",
     "text": [
      "I0303 14:10:51.783782 4181821504 kernel_dispatch.h:102] Get BackendSet from tensor\n",
      "I0303 14:10:51.783812 4181821504 kernel_dispatch.h:120] promote kernel DataType:complex64\n",
      "I0303 14:10:51.783999 4181821504 kernel_dispatch.h:102] Get BackendSet from tensor\n",
      "I0303 14:10:51.784013 4181821504 kernel_dispatch.h:120] promote kernel DataType:complex64\n",
      "I0303 14:10:51.784130 4181821504 kernel_dispatch.h:102] Get BackendSet from tensor\n",
      "I0303 14:10:51.784142 4181821504 kernel_dispatch.h:120] promote kernel DataType:complex64\n",
      "I0303 14:10:51.784148 4181821504 kernel_dispatch.h:102] Get BackendSet from tensor\n",
      "I0303 14:10:51.784157 4181821504 kernel_dispatch.h:120] promote kernel DataType:complex64\n",
      "I0303 14:10:51.784333 4181821504 kernel_dispatch.h:102] Get BackendSet from tensor\n",
      "I0303 14:10:51.784343 4181821504 kernel_dispatch.h:120] promote kernel DataType:complex64\n",
      "I0303 14:10:51.784659 4181821504 kernel_dispatch.h:102] Get BackendSet from tensor\n",
      "I0303 14:10:51.784669 4181821504 kernel_dispatch.h:120] promote kernel DataType:complex64\n",
      "I0303 14:10:51.784968 4181821504 kernel_dispatch.h:102] Get BackendSet from tensor\n",
      "I0303 14:10:51.784986 4181821504 kernel_dispatch.h:120] promote kernel DataType:complex64\n",
      "I0303 14:10:51.785038 4181821504 kernel_dispatch.h:102] Get BackendSet from tensor\n",
      "I0303 14:10:51.785058 4181821504 kernel_dispatch.h:120] promote kernel DataType:complex64\n",
      "I0303 14:10:51.785166 4181821504 kernel_dispatch.h:102] Get BackendSet from tensor\n",
      "I0303 14:10:51.785176 4181821504 kernel_dispatch.h:120] promote kernel DataType:complex64\n",
      "I0303 14:10:51.785254 4181821504 kernel_dispatch.h:102] Get BackendSet from tensor\n",
      "I0303 14:10:51.785265 4181821504 kernel_dispatch.h:120] promote kernel DataType:complex64\n",
      "I0303 14:10:51.785274 4181821504 kernel_dispatch.h:102] Get BackendSet from tensor\n",
      "I0303 14:10:51.785282 4181821504 kernel_dispatch.h:120] promote kernel DataType:complex64\n",
      "I0303 14:10:51.785307 4181821504 kernel_dispatch.h:102] Get BackendSet from tensor\n",
      "I0303 14:10:51.785315 4181821504 kernel_dispatch.h:120] promote kernel DataType:complex64\n",
      "I0303 14:10:51.785334 4181821504 kernel_dispatch.h:102] Get BackendSet from tensor\n",
      "I0303 14:10:51.785343 4181821504 kernel_dispatch.h:120] promote kernel DataType:complex64\n",
      "I0303 14:10:51.785387 4181821504 kernel_dispatch.h:102] Get BackendSet from tensor\n",
      "I0303 14:10:51.785398 4181821504 kernel_dispatch.h:120] promote kernel DataType:complex64\n",
      "I0303 14:10:51.785844 4181821504 kernel_dispatch.h:102] Get BackendSet from tensor\n",
      "I0303 14:10:51.785859 4181821504 kernel_dispatch.h:120] promote kernel DataType:complex64\n",
      "I0303 14:10:51.786049 4181821504 kernel_dispatch.h:102] Get BackendSet from tensor\n",
      "I0303 14:10:51.786069 4181821504 kernel_dispatch.h:120] promote kernel DataType:complex64\n",
      "I0303 14:10:51.786125 4181821504 kernel_dispatch.h:102] Get BackendSet from tensor\n",
      "I0303 14:10:51.786139 4181821504 kernel_dispatch.h:120] promote kernel DataType:complex64\n",
      "I0303 14:10:51.786159 4181821504 kernel_dispatch.h:102] Get BackendSet from tensor\n",
      "I0303 14:10:51.786170 4181821504 kernel_dispatch.h:120] promote kernel DataType:complex64\n",
      "I0303 14:10:51.786185 4181821504 kernel_dispatch.h:102] Get BackendSet from tensor\n",
      "I0303 14:10:51.786195 4181821504 kernel_dispatch.h:120] promote kernel DataType:complex64\n",
      "I0303 14:10:51.786209 4181821504 kernel_dispatch.h:102] Get BackendSet from tensor\n",
      "I0303 14:10:51.786221 4181821504 kernel_dispatch.h:120] promote kernel DataType:complex64\n",
      "I0303 14:10:51.786238 4181821504 kernel_dispatch.h:102] Get BackendSet from tensor\n",
      "I0303 14:10:51.786247 4181821504 kernel_dispatch.h:120] promote kernel DataType:complex64\n",
      "I0303 14:10:51.786255 4181821504 kernel_dispatch.h:102] Get BackendSet from tensor\n",
      "I0303 14:10:51.786262 4181821504 kernel_dispatch.h:120] promote kernel DataType:complex64\n",
      "I0303 14:10:51.786278 4181821504 kernel_dispatch.h:102] Get BackendSet from tensor\n",
      "I0303 14:10:51.786284 4181821504 kernel_dispatch.h:120] promote kernel DataType:complex64\n",
      "I0303 14:10:51.786294 4181821504 kernel_dispatch.h:102] Get BackendSet from tensor\n",
      "I0303 14:10:51.786300 4181821504 kernel_dispatch.h:120] promote kernel DataType:complex64\n",
      "I0303 14:10:51.786309 4181821504 kernel_dispatch.h:102] Get BackendSet from tensor\n",
      "I0303 14:10:51.786315 4181821504 kernel_dispatch.h:120] promote kernel DataType:complex64\n",
      "I0303 14:10:51.786326 4181821504 kernel_dispatch.h:102] Get BackendSet from tensor\n",
      "I0303 14:10:51.786332 4181821504 kernel_dispatch.h:120] promote kernel DataType:complex64\n",
      "I0303 14:10:51.786341 4181821504 kernel_dispatch.h:102] Get BackendSet from tensor\n",
      "I0303 14:10:51.786346 4181821504 kernel_dispatch.h:120] promote kernel DataType:complex64\n",
      "I0303 14:10:51.786375 4181821504 kernel_dispatch.h:102] Get BackendSet from tensor\n",
      "I0303 14:10:51.786386 4181821504 kernel_dispatch.h:120] promote kernel DataType:complex64\n",
      "I0303 14:10:51.786556 4181821504 kernel_dispatch.h:102] Get BackendSet from tensor\n",
      "I0303 14:10:51.786569 4181821504 kernel_dispatch.h:120] promote kernel DataType:complex64\n",
      "I0303 14:10:51.786597 4181821504 kernel_dispatch.h:102] Get BackendSet from tensor\n",
      "I0303 14:10:51.786609 4181821504 kernel_dispatch.h:120] promote kernel DataType:complex64\n",
      "I0303 14:10:51.786649 4181821504 kernel_dispatch.h:102] Get BackendSet from tensor\n",
      "I0303 14:10:51.786674 4181821504 kernel_dispatch.h:120] promote kernel DataType:complex64\n",
      "I0303 14:10:51.786702 4181821504 kernel_dispatch.h:102] Get BackendSet from tensor\n",
      "I0303 14:10:51.786720 4181821504 kernel_dispatch.h:120] promote kernel DataType:complex64\n",
      "I0303 14:10:51.786749 4181821504 kernel_dispatch.h:102] Get BackendSet from tensor\n",
      "I0303 14:10:51.786758 4181821504 kernel_dispatch.h:120] promote kernel DataType:complex64\n",
      "I0303 14:10:51.786783 4181821504 kernel_dispatch.h:102] Get BackendSet from tensor\n",
      "I0303 14:10:51.786793 4181821504 kernel_dispatch.h:120] promote kernel DataType:complex64\n",
      "I0303 14:10:51.786826 4181821504 kernel_dispatch.h:102] Get BackendSet from tensor\n",
      "I0303 14:10:51.786836 4181821504 kernel_dispatch.h:120] promote kernel DataType:complex64\n",
      "I0303 14:10:51.786854 4181821504 kernel_dispatch.h:102] Get BackendSet from tensor\n",
      "I0303 14:10:51.786867 4181821504 kernel_dispatch.h:120] promote kernel DataType:complex64\n",
      "I0303 14:10:51.786881 4181821504 kernel_dispatch.h:102] Get BackendSet from tensor\n",
      "I0303 14:10:51.786890 4181821504 kernel_dispatch.h:120] promote kernel DataType:complex64\n",
      "I0303 14:10:51.786907 4181821504 kernel_dispatch.h:102] Get BackendSet from tensor\n",
      "I0303 14:10:51.786921 4181821504 kernel_dispatch.h:120] promote kernel DataType:complex64\n",
      "I0303 14:10:51.786950 4181821504 kernel_dispatch.h:102] Get BackendSet from tensor\n",
      "I0303 14:10:51.786970 4181821504 kernel_dispatch.h:120] promote kernel DataType:complex64\n",
      "I0303 14:10:51.787001 4181821504 kernel_dispatch.h:102] Get BackendSet from tensor\n",
      "I0303 14:10:51.787009 4181821504 kernel_dispatch.h:120] promote kernel DataType:complex64\n",
      "I0303 14:10:51.787037 4181821504 kernel_dispatch.h:102] Get BackendSet from tensor\n",
      "I0303 14:10:51.787048 4181821504 kernel_dispatch.h:120] promote kernel DataType:complex64\n",
      "I0303 14:10:51.787063 4181821504 kernel_dispatch.h:102] Get BackendSet from tensor\n",
      "I0303 14:10:51.787072 4181821504 kernel_dispatch.h:120] promote kernel DataType:complex64\n",
      "I0303 14:10:51.787127 4181821504 kernel_dispatch.h:102] Get BackendSet from tensor\n",
      "I0303 14:10:51.787137 4181821504 kernel_dispatch.h:120] promote kernel DataType:complex64\n",
      "I0303 14:10:51.787146 4181821504 kernel_dispatch.h:102] Get BackendSet from tensor\n",
      "I0303 14:10:51.787161 4181821504 kernel_dispatch.h:120] promote kernel DataType:complex64\n",
      "I0303 14:10:51.787190 4181821504 kernel_dispatch.h:102] Get BackendSet from tensor\n",
      "I0303 14:10:51.787201 4181821504 kernel_dispatch.h:120] promote kernel DataType:complex64\n",
      "I0303 14:10:51.787330 4181821504 kernel_dispatch.h:102] Get BackendSet from tensor\n",
      "I0303 14:10:51.787343 4181821504 kernel_dispatch.h:120] promote kernel DataType:complex64\n",
      "I0303 14:10:51.787355 4181821504 kernel_dispatch.h:102] Get BackendSet from tensor\n",
      "I0303 14:10:51.787364 4181821504 kernel_dispatch.h:120] promote kernel DataType:complex64\n",
      "I0303 14:10:51.787384 4181821504 kernel_dispatch.h:102] Get BackendSet from tensor\n",
      "I0303 14:10:51.787395 4181821504 kernel_dispatch.h:120] promote kernel DataType:complex64\n",
      "I0303 14:10:51.787431 4181821504 kernel_dispatch.h:102] Get BackendSet from tensor\n",
      "I0303 14:10:51.787439 4181821504 kernel_dispatch.h:120] promote kernel DataType:complex64\n",
      "I0303 14:10:51.787475 4181821504 kernel_dispatch.h:102] Get BackendSet from tensor\n",
      "I0303 14:10:51.787484 4181821504 kernel_dispatch.h:120] promote kernel DataType:complex64\n",
      "I0303 14:10:51.787521 4181821504 kernel_dispatch.h:102] Get BackendSet from tensor\n",
      "I0303 14:10:51.787557 4181821504 kernel_dispatch.h:102] Get BackendSet from tensor\n",
      "I0303 14:10:51.787611 4181821504 kernel_dispatch.h:102] Get BackendSet from tensor\n",
      "I0303 14:10:51.787648 4181821504 kernel_dispatch.h:102] Get BackendSet from tensor\n",
      "I0303 14:10:51.787678 4181821504 kernel_dispatch.h:102] Get BackendSet from tensor\n",
      "I0303 14:10:51.787706 4181821504 kernel_dispatch.h:102] Get BackendSet from tensor\n",
      "I0303 14:10:51.787766 4181821504 kernel_dispatch.h:102] Get BackendSet from tensor\n",
      "I0303 14:10:51.787856 4181821504 kernel_dispatch.h:102] Get BackendSet from tensor\n",
      "I0303 14:10:51.787870 4181821504 kernel_dispatch.h:120] promote kernel DataType:complex64\n",
      "I0303 14:10:51.787879 4181821504 kernel_dispatch.h:102] Get BackendSet from tensor\n",
      "I0303 14:10:51.787891 4181821504 kernel_dispatch.h:120] promote kernel DataType:complex64\n",
      "I0303 14:10:51.787926 4181821504 kernel_dispatch.h:102] Get BackendSet from tensor\n",
      "I0303 14:10:51.787945 4181821504 kernel_dispatch.h:120] promote kernel DataType:complex64\n",
      "I0303 14:10:51.787953 4181821504 kernel_dispatch.h:102] Get BackendSet from tensor\n",
      "I0303 14:10:51.787962 4181821504 kernel_dispatch.h:120] promote kernel DataType:complex64\n",
      "I0303 14:10:51.788152 4181821504 kernel_dispatch.h:102] Get BackendSet from tensor\n",
      "I0303 14:10:51.788193 4181821504 kernel_dispatch.h:102] Get BackendSet from tensor\n",
      "I0303 14:10:51.788280 4181821504 kernel_dispatch.h:102] Get BackendSet from tensor\n",
      "I0303 14:10:51.788302 4181821504 kernel_dispatch.h:102] Get BackendSet from tensor\n",
      "I0303 14:10:51.788318 4181821504 kernel_dispatch.h:102] Get BackendSet from tensor\n",
      "I0303 14:10:51.788353 4181821504 kernel_dispatch.h:102] Get BackendSet from tensor\n",
      "I0303 14:10:51.788414 4181821504 kernel_dispatch.h:102] Get BackendSet from tensor\n",
      "I0303 14:10:51.788421 4181821504 kernel_dispatch.h:120] promote kernel DataType:complex64\n",
      "I0303 14:10:51.788427 4181821504 kernel_dispatch.h:102] Get BackendSet from tensor\n",
      "I0303 14:10:51.788434 4181821504 kernel_dispatch.h:120] promote kernel DataType:complex64\n",
      "I0303 14:10:51.788549 4181821504 kernel_dispatch.h:102] Get BackendSet from tensor\n",
      "I0303 14:10:51.788565 4181821504 kernel_dispatch.h:120] promote kernel DataType:complex64\n",
      "I0303 14:10:51.788574 4181821504 kernel_dispatch.h:102] Get BackendSet from tensor\n",
      "I0303 14:10:51.788583 4181821504 kernel_dispatch.h:120] promote kernel DataType:complex64\n",
      "I0303 14:10:51.788642 4181821504 kernel_dispatch.h:102] Get BackendSet from tensor\n",
      "I0303 14:10:51.788655 4181821504 kernel_dispatch.h:120] promote kernel DataType:complex64\n"
     ]
    },
    {
     "ename": "ValueError",
     "evalue": "(InvalidArgument) The axis is expected to be in range of [0, 0), but got 0\n  [Hint: Expected axis >= -rank && axis < rank == true, but received axis >= -rank && axis < rank:0 != true:1.] (at /Users/paddle/xly/workspace/293efbd7-945c-47ab-96a0-e0093f12eab2/Paddle/paddle/phi/infermeta/multiary.cc:1035)\n",
     "output_type": "error",
     "traceback": [
      "\u001b[31m---------------------------------------------------------------------------\u001b[39m",
      "\u001b[31mValueError\u001b[39m                                Traceback (most recent call last)",
      "\u001b[36mCell\u001b[39m\u001b[36m \u001b[39m\u001b[32mIn[8]\u001b[39m\u001b[32m, line 8\u001b[39m\n\u001b[32m      5\u001b[39m opt = paddle.optimizer.Adam(learning_rate=LR, parameters=cir.parameters())\n\u001b[32m      7\u001b[39m \u001b[38;5;28;01mfor\u001b[39;00m itr \u001b[38;5;129;01min\u001b[39;00m \u001b[38;5;28mrange\u001b[39m(\u001b[32m1\u001b[39m, ITR + \u001b[32m1\u001b[39m):\n\u001b[32m----> \u001b[39m\u001b[32m8\u001b[39m     state = \u001b[43mcir\u001b[49m\u001b[43m(\u001b[49m\u001b[43m)\u001b[49m\n\u001b[32m      9\u001b[39m     \u001b[38;5;66;03m# Calculate the gradient and optimize\u001b[39;00m\n\u001b[32m     10\u001b[39m     loss = -loss_func(state)\n",
      "\u001b[36mFile \u001b[39m\u001b[32m~/code/cuQuantum/.venv/lib/python3.12/site-packages/paddle/nn/layer/layers.py:1429\u001b[39m, in \u001b[36mLayer.__call__\u001b[39m\u001b[34m(self, *inputs, **kwargs)\u001b[39m\n\u001b[32m   1420\u001b[39m \u001b[38;5;28;01mif\u001b[39;00m (\n\u001b[32m   1421\u001b[39m     (\u001b[38;5;129;01mnot\u001b[39;00m in_to_static_mode())\n\u001b[32m   1422\u001b[39m     \u001b[38;5;129;01mand\u001b[39;00m (\u001b[38;5;129;01mnot\u001b[39;00m \u001b[38;5;28mself\u001b[39m._forward_pre_hooks)\n\u001b[32m   (...)\u001b[39m\u001b[32m   1426\u001b[39m     \u001b[38;5;129;01mand\u001b[39;00m (\u001b[38;5;129;01mnot\u001b[39;00m in_profiler_mode())\n\u001b[32m   1427\u001b[39m ):\n\u001b[32m   1428\u001b[39m     \u001b[38;5;28mself\u001b[39m._build_once(*inputs, **kwargs)\n\u001b[32m-> \u001b[39m\u001b[32m1429\u001b[39m     \u001b[38;5;28;01mreturn\u001b[39;00m \u001b[38;5;28;43mself\u001b[39;49m\u001b[43m.\u001b[49m\u001b[43mforward\u001b[49m\u001b[43m(\u001b[49m\u001b[43m*\u001b[49m\u001b[43minputs\u001b[49m\u001b[43m,\u001b[49m\u001b[43m \u001b[49m\u001b[43m*\u001b[49m\u001b[43m*\u001b[49m\u001b[43mkwargs\u001b[49m\u001b[43m)\u001b[49m\n\u001b[32m   1430\u001b[39m \u001b[38;5;28;01melse\u001b[39;00m:\n\u001b[32m   1431\u001b[39m     \u001b[38;5;28;01mreturn\u001b[39;00m \u001b[38;5;28mself\u001b[39m._dygraph_call_func(*inputs, **kwargs)\n",
      "\u001b[36mFile \u001b[39m\u001b[32m~/code/cuQuantum/.venv/lib/python3.12/site-packages/paddle_quantum/ansatz/circuit.py:1691\u001b[39m, in \u001b[36mCircuit.forward\u001b[39m\u001b[34m(self, state)\u001b[39m\n\u001b[32m   1688\u001b[39m     \u001b[38;5;28;01massert\u001b[39;00m \u001b[38;5;28mself\u001b[39m.__num_qubits \u001b[38;5;129;01mis\u001b[39;00m \u001b[38;5;129;01mnot\u001b[39;00m \u001b[38;5;28;01mNone\u001b[39;00m, \u001b[33m\"\u001b[39m\u001b[33mInformation about num_qubits is required before running the circuit\u001b[39m\u001b[33m\"\u001b[39m\n\u001b[32m   1689\u001b[39m     state = zero_state(\u001b[38;5;28mself\u001b[39m.__num_qubits, \u001b[38;5;28mself\u001b[39m.backend, \u001b[38;5;28mself\u001b[39m.dtype)\n\u001b[32m-> \u001b[39m\u001b[32m1691\u001b[39m \u001b[38;5;28;01mreturn\u001b[39;00m \u001b[38;5;28;43msuper\u001b[39;49m\u001b[43m(\u001b[49m\u001b[43m)\u001b[49m\u001b[43m.\u001b[49m\u001b[43mforward\u001b[49m\u001b[43m(\u001b[49m\u001b[43mstate\u001b[49m\u001b[43m)\u001b[49m\n",
      "\u001b[36mFile \u001b[39m\u001b[32m~/code/cuQuantum/.venv/lib/python3.12/site-packages/paddle_quantum/ansatz/container.py:183\u001b[39m, in \u001b[36mSequential.forward\u001b[39m\u001b[34m(self, state)\u001b[39m\n\u001b[32m    173\u001b[39m \u001b[38;5;250m\u001b[39m\u001b[33mr\u001b[39m\u001b[33;03m\"\"\" forward the input\u001b[39;00m\n\u001b[32m    174\u001b[39m \u001b[33;03m\u001b[39;00m\n\u001b[32m    175\u001b[39m \u001b[33;03mArgs:\u001b[39;00m\n\u001b[32m   (...)\u001b[39m\u001b[32m    180\u001b[39m \u001b[33;03m\u001b[39;00m\n\u001b[32m    181\u001b[39m \u001b[33;03m\"\"\"\u001b[39;00m        \n\u001b[32m    182\u001b[39m \u001b[38;5;28;01mfor\u001b[39;00m layer \u001b[38;5;129;01min\u001b[39;00m \u001b[38;5;28mself\u001b[39m._sub_layers.values():\n\u001b[32m--> \u001b[39m\u001b[32m183\u001b[39m     state = \u001b[43mlayer\u001b[49m\u001b[43m(\u001b[49m\u001b[43mstate\u001b[49m\u001b[43m)\u001b[49m\n\u001b[32m    184\u001b[39m \u001b[38;5;28;01mreturn\u001b[39;00m state\n",
      "\u001b[36mFile \u001b[39m\u001b[32m~/code/cuQuantum/.venv/lib/python3.12/site-packages/paddle/nn/layer/layers.py:1429\u001b[39m, in \u001b[36mLayer.__call__\u001b[39m\u001b[34m(self, *inputs, **kwargs)\u001b[39m\n\u001b[32m   1420\u001b[39m \u001b[38;5;28;01mif\u001b[39;00m (\n\u001b[32m   1421\u001b[39m     (\u001b[38;5;129;01mnot\u001b[39;00m in_to_static_mode())\n\u001b[32m   1422\u001b[39m     \u001b[38;5;129;01mand\u001b[39;00m (\u001b[38;5;129;01mnot\u001b[39;00m \u001b[38;5;28mself\u001b[39m._forward_pre_hooks)\n\u001b[32m   (...)\u001b[39m\u001b[32m   1426\u001b[39m     \u001b[38;5;129;01mand\u001b[39;00m (\u001b[38;5;129;01mnot\u001b[39;00m in_profiler_mode())\n\u001b[32m   1427\u001b[39m ):\n\u001b[32m   1428\u001b[39m     \u001b[38;5;28mself\u001b[39m._build_once(*inputs, **kwargs)\n\u001b[32m-> \u001b[39m\u001b[32m1429\u001b[39m     \u001b[38;5;28;01mreturn\u001b[39;00m \u001b[38;5;28;43mself\u001b[39;49m\u001b[43m.\u001b[49m\u001b[43mforward\u001b[49m\u001b[43m(\u001b[49m\u001b[43m*\u001b[49m\u001b[43minputs\u001b[49m\u001b[43m,\u001b[49m\u001b[43m \u001b[49m\u001b[43m*\u001b[49m\u001b[43m*\u001b[49m\u001b[43mkwargs\u001b[49m\u001b[43m)\u001b[49m\n\u001b[32m   1430\u001b[39m \u001b[38;5;28;01melse\u001b[39;00m:\n\u001b[32m   1431\u001b[39m     \u001b[38;5;28;01mreturn\u001b[39;00m \u001b[38;5;28mself\u001b[39m._dygraph_call_func(*inputs, **kwargs)\n",
      "\u001b[36mFile \u001b[39m\u001b[32m~/code/cuQuantum/.venv/lib/python3.12/site-packages/paddle_quantum/gate/layer.py:383\u001b[39m, in \u001b[36mQAOALayer.forward\u001b[39m\u001b[34m(self, state)\u001b[39m\n\u001b[32m    381\u001b[39m \u001b[38;5;28;01mfor\u001b[39;00m node0, node1 \u001b[38;5;129;01min\u001b[39;00m \u001b[38;5;28mself\u001b[39m.edges:\n\u001b[32m    382\u001b[39m     state = functional.cnot(state, [node0, node1], \u001b[38;5;28mself\u001b[39m.dtype, \u001b[38;5;28mself\u001b[39m.backend)\n\u001b[32m--> \u001b[39m\u001b[32m383\u001b[39m     state = \u001b[43mfunctional\u001b[49m\u001b[43m.\u001b[49m\u001b[43mrz\u001b[49m\u001b[43m(\u001b[49m\u001b[43mstate\u001b[49m\u001b[43m,\u001b[49m\u001b[43m \u001b[49m\u001b[38;5;28;43mself\u001b[39;49m\u001b[43m.\u001b[49m\u001b[43mgamma\u001b[49m\u001b[43m[\u001b[49m\u001b[43mdepth_idx\u001b[49m\u001b[43m]\u001b[49m\u001b[43m,\u001b[49m\u001b[43m \u001b[49m\u001b[43mnode1\u001b[49m\u001b[43m,\u001b[49m\u001b[43m \u001b[49m\u001b[38;5;28;43mself\u001b[39;49m\u001b[43m.\u001b[49m\u001b[43mdtype\u001b[49m\u001b[43m,\u001b[49m\u001b[43m \u001b[49m\u001b[38;5;28;43mself\u001b[39;49m\u001b[43m.\u001b[49m\u001b[43mbackend\u001b[49m\u001b[43m)\u001b[49m\n\u001b[32m    384\u001b[39m     state = functional.cnot(state, [node0, node1], \u001b[38;5;28mself\u001b[39m.dtype, \u001b[38;5;28mself\u001b[39m.backend)\n\u001b[32m    385\u001b[39m \u001b[38;5;28;01mfor\u001b[39;00m node \u001b[38;5;129;01min\u001b[39;00m \u001b[38;5;28mself\u001b[39m.nodes:\n",
      "\u001b[36mFile \u001b[39m\u001b[32m~/code/cuQuantum/.venv/lib/python3.12/site-packages/paddle_quantum/gate/functional/single_qubit_gate.py:263\u001b[39m, in \u001b[36mrz\u001b[39m\u001b[34m(state, theta, qubit_idx, dtype, backend)\u001b[39m\n\u001b[32m    247\u001b[39m \u001b[38;5;250m\u001b[39m\u001b[33mr\u001b[39m\u001b[33;03m\"\"\"Apply a single-qubit rotation gate about the z-axis on the input state.\u001b[39;00m\n\u001b[32m    248\u001b[39m \n\u001b[32m    249\u001b[39m \u001b[33;03mArgs:\u001b[39;00m\n\u001b[32m   (...)\u001b[39m\u001b[32m    257\u001b[39m \u001b[33;03m    Output state.\u001b[39;00m\n\u001b[32m    258\u001b[39m \u001b[33;03m\"\"\"\u001b[39;00m\n\u001b[32m    259\u001b[39m gate = [\n\u001b[32m    260\u001b[39m     paddle.cos(theta / \u001b[32m2\u001b[39m).cast(dtype) - \u001b[32m1\u001b[39mj * paddle.sin(theta / \u001b[32m2\u001b[39m).cast(dtype), _zero(dtype),\n\u001b[32m    261\u001b[39m     _zero(dtype), paddle.cos(theta / \u001b[32m2\u001b[39m).cast(dtype) + \u001b[32m1\u001b[39mj * paddle.sin(theta / \u001b[32m2\u001b[39m).cast(dtype),\n\u001b[32m    262\u001b[39m ]\n\u001b[32m--> \u001b[39m\u001b[32m263\u001b[39m gate = paddle.reshape(\u001b[43mpaddle\u001b[49m\u001b[43m.\u001b[49m\u001b[43mconcat\u001b[49m\u001b[43m(\u001b[49m\u001b[43mgate\u001b[49m\u001b[43m)\u001b[49m, [\u001b[32m2\u001b[39m, \u001b[32m2\u001b[39m])\n\u001b[32m    264\u001b[39m state_data = simulation(state, gate, qubit_idx, state.num_qubits, backend)\n\u001b[32m    265\u001b[39m transformed_state = state.clone()\n",
      "\u001b[36mFile \u001b[39m\u001b[32m~/code/cuQuantum/.venv/lib/python3.12/site-packages/paddle/tensor/manipulation.py:1263\u001b[39m, in \u001b[36mconcat\u001b[39m\u001b[34m(x, axis, name)\u001b[39m\n\u001b[32m   1261\u001b[39m     \u001b[38;5;28;01mif\u001b[39;00m \u001b[38;5;129;01mnot\u001b[39;00m \u001b[38;5;28misinstance\u001b[39m(\u001b[38;5;28minput\u001b[39m, (Variable, paddle.pir.Value)):\n\u001b[32m   1262\u001b[39m         \u001b[38;5;28minput\u001b[39m = [t \u001b[38;5;28;01mfor\u001b[39;00m t \u001b[38;5;129;01min\u001b[39;00m \u001b[38;5;28minput\u001b[39m \u001b[38;5;28;01mif\u001b[39;00m t.shape.count(\u001b[32m0\u001b[39m) == \u001b[32m0\u001b[39m]\n\u001b[32m-> \u001b[39m\u001b[32m1263\u001b[39m     \u001b[38;5;28;01mreturn\u001b[39;00m \u001b[43m_C_ops\u001b[49m\u001b[43m.\u001b[49m\u001b[43mconcat\u001b[49m\u001b[43m(\u001b[49m\u001b[38;5;28;43minput\u001b[39;49m\u001b[43m,\u001b[49m\u001b[43m \u001b[49m\u001b[43maxis\u001b[49m\u001b[43m)\u001b[49m\n\u001b[32m   1264\u001b[39m \u001b[38;5;28;01melse\u001b[39;00m:\n\u001b[32m   1265\u001b[39m     check_type(\u001b[38;5;28minput\u001b[39m, \u001b[33m'\u001b[39m\u001b[33minput\u001b[39m\u001b[33m'\u001b[39m, (\u001b[38;5;28mlist\u001b[39m, \u001b[38;5;28mtuple\u001b[39m, Variable), \u001b[33m'\u001b[39m\u001b[33mconcat\u001b[39m\u001b[33m'\u001b[39m)\n",
      "\u001b[31mValueError\u001b[39m: (InvalidArgument) The axis is expected to be in range of [0, 0), but got 0\n  [Hint: Expected axis >= -rank && axis < rank == true, but received axis >= -rank && axis < rank:0 != true:1.] (at /Users/paddle/xly/workspace/293efbd7-945c-47ab-96a0-e0093f12eab2/Paddle/paddle/phi/infermeta/multiary.cc:1035)\n"
     ]
    }
   ],
   "source": [
    "paddle.seed(SEED)\n",
    "\n",
    "cir = circuit_QAOA(n, depth, E, V)\n",
    "# Use Adam optimizer\n",
    "opt = paddle.optimizer.Adam(learning_rate=LR, parameters=cir.parameters())\n",
    "\n",
    "for itr in range(1, ITR + 1):\n",
    "    state = cir()\n",
    "    # Calculate the gradient and optimize\n",
    "    loss = -loss_func(state)\n",
    "    loss.backward()\n",
    "    opt.minimize(loss)\n",
    "    opt.clear_grad()\n",
    "    if itr % 10 == 0:\n",
    "        print(\"iter:\", itr, \"  loss:\", \"%.4f\" % loss.numpy())\n"
   ]
  },
  {
   "cell_type": "markdown",
   "metadata": {},
   "source": [
    "### Decoding the quantum solution\n",
    "\n",
    "After obtaining the minimum value of the loss function and the corresponding set of parameters $\\vec{\\gamma}^*,\\vec{\\beta}^*$, our task has not been completed. In order to obtain an approximate solution to the Max-Cut Problem, it is necessary to decode the solution to the classical optimization problem from the quantum state $|\\vec{\\gamma}^*,\\vec{\\beta}^*\\rangle$ output by QAOA. Physically, to decode a quantum state, we need to measure it and then calculate the probability distribution of the measurement results:\n",
    "\n",
    "$$\n",
    "p(z)=|\\langle z|\\vec{\\gamma}^*,\\vec{\\beta}^*\\rangle|^2.\n",
    "\\tag{16}\n",
    "$$\n",
    "\n",
    "Usually, the greater the probability of a certain bit string, the greater the probability that it corresponds to an optimal solution of the Max-Cut problem.\n",
    "\n",
    "Paddle Quantum provides a function to view the probability distribution of the measurement results of the state output by the QAOA quantum circuit:"
   ]
  },
  {
   "cell_type": "code",
   "execution_count": null,
   "metadata": {
    "ExecuteTime": {
     "end_time": "2021-04-30T09:10:21.794006Z",
     "start_time": "2021-04-30T09:10:21.392963Z"
    }
   },
   "outputs": [
    {
     "data": {
      "image/png": "[encoded data removed]",
      "text/plain": [
       "<Figure size 432x288 with 1 Axes>"
      ]
     },
     "metadata": {
      "needs_background": "light"
     },
     "output_type": "display_data"
    }
   ],
   "source": [
    "state = cir()\n",
    "# Repeat the simulated measurement of the circuit output state 1024 times\n",
    "prob_measure = state.measure(plot=True)"
   ]
  },
  {
   "cell_type": "markdown",
   "metadata": {},
   "source": [
    "After measurement, we can find the bit string with the highest probability of occurrence. Let the vertices whose bit values are $0$ in the bit string belong to the set $S_0$ and the vertices whose bit values are $1$ belong to the set $S_1$. The set of edges between these two vertex sets is a possible maximum cut of the graph.\n",
    "\n",
    "The following code selects the bit string with the greatest chance of appearing in the measurement result, then maps it back to the classic solution, and draws the corresponding maximum cut:\n",
    "- The red vertex belongs to the set $S_0$,\n",
    "- The blue vertex belongs to the set $S_1$,\n",
    "- The dashed line indicates the edge being cut."
   ]
  },
  {
   "cell_type": "code",
   "execution_count": null,
   "metadata": {
    "ExecuteTime": {
     "end_time": "2021-04-30T09:10:36.652097Z",
     "start_time": "2021-04-30T09:10:36.465888Z"
    }
   },
   "outputs": [
    {
     "name": "stdout",
     "output_type": "stream",
     "text": [
      "The bit string form of the cut found: 0101\n"
     ]
    },
    {
     "data": {
      "image/png": "[encoded data removed]",
      "text/plain": [
       "<Figure size 432x288 with 1 Axes>"
      ]
     },
     "metadata": {},
     "output_type": "display_data"
    }
   ],
   "source": [
    "# Find the most frequent bit string in the measurement results\n",
    "cut_bitstring = max(prob_measure, key=prob_measure.get)\n",
    "print(\"The bit string form of the cut found:\", cut_bitstring)\n",
    "\n",
    "# Draw the cut corresponding to the bit string obtained above on the graph\n",
    "node_cut = [\"blue\" if cut_bitstring[v] == \"1\" else \"red\" for v in V]\n",
    "\n",
    "edge_cut = []\n",
    "for u in range(n):\n",
    "    for v in range(u + 1, n):\n",
    "        if (u, v) in E or (v, u) in E:\n",
    "            if cut_bitstring[u] == cut_bitstring[v]:\n",
    "                edge_cut.append(\"solid\")\n",
    "            else:\n",
    "                edge_cut.append(\"dashed\")\n",
    "nx.draw(G, pos, node_color=node_cut, style=edge_cut, **options)\n",
    "ax = plt.gca()\n",
    "ax.margins(0.20)\n",
    "plt.axis(\"off\")\n",
    "plt.show()\n"
   ]
  },
  {
   "cell_type": "markdown",
   "metadata": {},
   "source": [
    "As you can see, in this example, QAOA has found a maximum cut on the graph."
   ]
  },
  {
   "cell_type": "markdown",
   "metadata": {},
   "source": [
    "_______\n",
    "\n",
    "## References\n",
    "\n",
    "[1] Farhi, E., Goldstone, J. & Gutmann, S. A Quantum Approximate Optimization Algorithm. [arXiv:1411.4028 (2014).](https://arxiv.org/abs/1411.4028)"
   ]
  }
 ],
 "metadata": {
  "kernelspec": {
   "display_name": ".venv",
   "language": "python",
   "name": "python3"
  },
  "language_info": {
   "codemirror_mode": {
    "name": "ipython",
    "version": 3
   },
   "file_extension": ".py",
   "mimetype": "text/x-python",
   "name": "python",
   "nbconvert_exporter": "python",
   "pygments_lexer": "ipython3",
   "version": "3.12.9"
  },
  "toc": {
   "base_numbering": 1,
   "nav_menu": {},
   "number_sections": true,
   "sideBar": true,
   "skip_h1_title": false,
   "title_cell": "Table of Contents",
   "title_sidebar": "Contents",
   "toc_cell": false,
   "toc_position": {
    "height": "calc(100% - 180px)",
    "left": "10px",
    "top": "150px",
    "width": "426.667px"
   },
   "toc_section_display": true,
   "toc_window_display": false
  },
  "varInspector": {
   "cols": {
    "lenName": 16,
    "lenType": 16,
    "lenVar": 40
   },
   "kernels_config": {
    "python": {
     "delete_cmd_postfix": "",
     "delete_cmd_prefix": "del ",
     "library": "var_list.py",
     "varRefreshCmd": "print(var_dic_list())"
    },
    "r": {
     "delete_cmd_postfix": ") ",
     "delete_cmd_prefix": "rm(",
     "library": "var_list.r",
     "varRefreshCmd": "cat(var_dic_list()) "
    }
   },
   "types_to_exclude": [
    "module",
    "function",
    "builtin_function_or_method",
    "instance",
    "_Feature"
   ],
   "window_display": false
  }
 },
 "nbformat": 4,
 "nbformat_minor": 4
}
